{
 "cells": [
  {
   "cell_type": "markdown",
   "metadata": {},
   "source": [
    "# Ver. 1\n",
    "slow AF"
   ]
  },
  {
   "cell_type": "markdown",
   "metadata": {},
   "source": [
    "## code\n",
    "\n",
    "see in `WebsiteGraph_old.py`"
   ]
  },
  {
   "cell_type": "markdown",
   "metadata": {},
   "source": [
    "## examples"
   ]
  },
  {
   "cell_type": "code",
   "execution_count": 1,
   "metadata": {},
   "outputs": [
    {
     "data": {
      "text/plain": [
       "'\\nfrom WebsiteGraph_old import *\\n# Пример использования\\nlogging.disable(logging.CRITICAL)\\nfor i in [1,2,3]:\\n    logger.info(\"Запуск программы\")\\n\\n    graph = WebsiteGraph(\\n        start_url=\"https://en.wikipedia.org/wiki/Data_science\",\\n        max_depth=i,\\n        max_links=10,\\n        path_regex=r\"^/wiki/[A-Za-z_]+$\",\\n        layout={\"physics\": True}\\n    )\\n\\n    graph._crawl()\\n    graph.visualize()'"
      ]
     },
     "execution_count": 1,
     "metadata": {},
     "output_type": "execute_result"
    }
   ],
   "source": [
    "'''\n",
    "from WebsiteGraph_old import *\n",
    "# Пример использования\n",
    "logging.disable(logging.CRITICAL)\n",
    "for i in [1,2,3]:\n",
    "    logger.info(\"Запуск программы\")\n",
    "\n",
    "    graph = WebsiteGraph(\n",
    "        start_url=\"https://en.wikipedia.org/wiki/Data_science\",\n",
    "        max_depth=i,\n",
    "        max_links=10,\n",
    "        path_regex=r\"^/wiki/[A-Za-z_]+$\",\n",
    "        layout={\"physics\": True}\n",
    "    )\n",
    "\n",
    "    graph._crawl()\n",
    "    graph.visualize()'''"
   ]
  },
  {
   "cell_type": "markdown",
   "metadata": {},
   "source": [
    "results:\n",
    "\n",
    "c:\\Users\\ivant\\Desktop\\proj\\WebsiteGraph\\graphs\\graph0.html | max_depth: 1 | max_links: 10 | crawl time: 1.6000185012817383\n",
    "c:\\Users\\ivant\\Desktop\\proj\\WebsiteGraph\\graphs\\graph2.html | max_depth: 2 | max_links: 10 | crawl time: 12.905709743499756\n",
    "c:\\Users\\ivant\\Desktop\\proj\\WebsiteGraph\\graphs\\graph4.html | max_depth: 3 | max_links: 10 | crawl time: 84.55941534042358\n",
    "c:\\Users\\ivant\\Desktop\\proj\\WebsiteGraph\\graphs\\graph0.html | max_depth: 1 | max_links: 10 | crawl time: 3.058067798614502\n",
    "c:\\Users\\ivant\\Desktop\\proj\\WebsiteGraph\\graphs\\graph1.html | max_depth: 2 | max_links: 10 | crawl time: 20.718218088150024\n",
    "c:\\Users\\ivant\\Desktop\\proj\\WebsiteGraph\\graphs\\graph2.html | max_depth: 3 | max_links: 10 | crawl time: 123.30372500419617"
   ]
  },
  {
   "cell_type": "markdown",
   "metadata": {},
   "source": [
    "# Ver 2\n",
    "fast af\n",
    "multiprocessing"
   ]
  },
  {
   "cell_type": "markdown",
   "metadata": {},
   "source": [
    "## code\n",
    "\n",
    "see in `WebsiteGraph.py`"
   ]
  },
  {
   "cell_type": "markdown",
   "metadata": {},
   "source": [
    "## examples"
   ]
  },
  {
   "cell_type": "code",
   "execution_count": 2,
   "metadata": {},
   "outputs": [],
   "source": [
    "from WebsiteGraph import *"
   ]
  },
  {
   "cell_type": "code",
   "execution_count": 3,
   "metadata": {},
   "outputs": [
    {
     "data": {
      "text/plain": [
       "'logger.info(\"Starting program\")\\ngraph1 = WebsiteGraphMP(\\n    start_url=\"https://en.wikipedia.org/wiki/Data_science\",\\n    max_depth=1,\\n    max_links=10,\\n    path_regex=r\"^/wiki/[A-Za-z_]+$\",\\n    workers=10,\\n    layout={\"physics\": True}\\n)()\\n\\n\\ngraph1.visualize()'"
      ]
     },
     "execution_count": 3,
     "metadata": {},
     "output_type": "execute_result"
    }
   ],
   "source": [
    "'''logger.info(\"Starting program\")\n",
    "graph1 = WebsiteGraphMP(\n",
    "    start_url=\"https://en.wikipedia.org/wiki/Data_science\",\n",
    "    max_depth=1,\n",
    "    max_links=10,\n",
    "    path_regex=r\"^/wiki/[A-Za-z_]+$\",\n",
    "    workers=10,\n",
    "    layout={\"physics\": True}\n",
    ")()\n",
    "\n",
    "\n",
    "graph1.visualize()'''"
   ]
  },
  {
   "cell_type": "code",
   "execution_count": 4,
   "metadata": {},
   "outputs": [
    {
     "data": {
      "text/plain": [
       "'logger.info(\"Starting program\")\\ngraph1 = WebsiteGraphMP(\\n    start_url=\"https://en.wikipedia.org/wiki/Data_science\",\\n    max_depth=3,\\n    max_links=10,\\n    path_regex=r\"^/wiki/[A-Za-z_]+$\",\\n    workers=10,\\n    layout={\"physics\": True}\\n)()\\n# Call instance to crawl\\n\\nprint(graph1)  # Uses __str__\\nprint(repr(graph1))  # Uses __repr__\\n# Iterate over nodes\\nfor node, data in graph1:\\n    print(node, data)\\n# Check length\\nprint(\"Total nodes:\", len(graph1))\\n# Check membership\\nprint(\"Contains \\'https://en.wikipedia.org/wiki/Data_science\\':\", \"https://en.wikipedia.org/wiki/Data_science\" in graph1)\\n\\ngraph1.visualize()'"
      ]
     },
     "execution_count": 4,
     "metadata": {},
     "output_type": "execute_result"
    }
   ],
   "source": [
    "'''logger.info(\"Starting program\")\n",
    "graph1 = WebsiteGraphMP(\n",
    "    start_url=\"https://en.wikipedia.org/wiki/Data_science\",\n",
    "    max_depth=3,\n",
    "    max_links=10,\n",
    "    path_regex=r\"^/wiki/[A-Za-z_]+$\",\n",
    "    workers=10,\n",
    "    layout={\"physics\": True}\n",
    ")()\n",
    "# Call instance to crawl\n",
    "\n",
    "print(graph1)  # Uses __str__\n",
    "print(repr(graph1))  # Uses __repr__\n",
    "# Iterate over nodes\n",
    "for node, data in graph1:\n",
    "    print(node, data)\n",
    "# Check length\n",
    "print(\"Total nodes:\", len(graph1))\n",
    "# Check membership\n",
    "print(\"Contains 'https://en.wikipedia.org/wiki/Data_science':\", \"https://en.wikipedia.org/wiki/Data_science\" in graph1)\n",
    "\n",
    "graph1.visualize()'''"
   ]
  },
  {
   "cell_type": "code",
   "execution_count": 5,
   "metadata": {},
   "outputs": [
    {
     "data": {
      "text/plain": [
       "'graph1 = WebsiteGraphMP(\\n    start_url=\"https://en.wikipedia.org/wiki/Data_science\",\\n    max_depth=4,\\n    max_links=10,\\n    path_regex=r\"^/wiki/[A-Za-z_]+$\",\\n    workers=10,\\n    layout={\"physics\": True}\\n)\\ngraph1()\\n\\ngraph1.visualize(force_file_name = \\'4d.10l.10w\\')'"
      ]
     },
     "execution_count": 5,
     "metadata": {},
     "output_type": "execute_result"
    }
   ],
   "source": [
    "'''graph1 = WebsiteGraphMP(\n",
    "    start_url=\"https://en.wikipedia.org/wiki/Data_science\",\n",
    "    max_depth=4,\n",
    "    max_links=10,\n",
    "    path_regex=r\"^/wiki/[A-Za-z_]+$\",\n",
    "    workers=10,\n",
    "    layout={\"physics\": True}\n",
    ")\n",
    "graph1()\n",
    "\n",
    "graph1.visualize(force_file_name = '4d.10l.10w')'''"
   ]
  },
  {
   "cell_type": "markdown",
   "metadata": {},
   "source": [
    "results:\n",
    "\n",
    "c:\\Users\\ivant\\Desktop\\proj\\WebsiteGraph\\graphs\\graph3.html | max_depth: 1 | max_links: 10 | crawl time: 1.1849431991577148 | workers: 10\n",
    "c:\\Users\\ivant\\Desktop\\proj\\WebsiteGraph\\graphs\\graph4.html | max_depth: 1 | max_links: 10 | crawl time: 1.4319779872894287 | workers: 20\n",
    "c:\\Users\\ivant\\Desktop\\proj\\WebsiteGraph\\graphs\\graph5.html | max_depth: 2 | max_links: 10 | crawl time: 12.662982702255249 | workers: 10\n",
    "c:\\Users\\ivant\\Desktop\\proj\\WebsiteGraph\\graphs\\graph6.html | max_depth: 2 | max_links: 10 | crawl time: 13.79235053062439 | workers: 20\n",
    "c:\\Users\\ivant\\Desktop\\proj\\WebsiteGraph\\graphs\\graph7.html | max_depth: 3 | max_links: 10 | crawl time: 66.65576791763306 | workers: 10\n",
    "c:\\Users\\ivant\\Desktop\\proj\\WebsiteGraph\\graphs\\graph8.html | max_depth: 3 | max_links: 10 | crawl time: 62.48543572425842 | workers: 20\n",
    "c:\\Users\\ivant\\Desktop\\proj\\WebsiteGraph\\graphs\\graph9.html | max_depth: 4 | max_links: 10 | crawl time: 264.98015880584717 | workers: 10"
   ]
  },
  {
   "cell_type": "markdown",
   "metadata": {},
   "source": [
    "`max_depth=4,\n",
    "max_links=10`\n",
    "<br>\n",
    "С этими параметрами - визуализация проблематична, но строится относительно быстро, можно пользоваться как графом этой структурой можно спокойно"
   ]
  },
  {
   "cell_type": "markdown",
   "metadata": {},
   "source": [
    "## Union graphs"
   ]
  },
  {
   "cell_type": "code",
   "execution_count": 6,
   "metadata": {},
   "outputs": [
    {
     "data": {
      "text/plain": [
       "'graph1 = WebsiteGraphMP(start_url=\"https://en.wikipedia.org/wiki/Data_science\", max_depth=1, max_links=10, path_regex=r\"^/wiki/[A-Za-z_]+$\")\\ngraph1()\\n\\ngraph2 = WebsiteGraphMP(start_url=\"https://en.wikipedia.org/wiki/Artificial_intelligence\", max_depth=1, max_links=10, path_regex=r\"^/wiki/[A-Za-z_]+$\")\\ngraph2()\\n\\nunion_graph = graph1 + graph2\\nunion_graph.visualize()'"
      ]
     },
     "execution_count": 6,
     "metadata": {},
     "output_type": "execute_result"
    }
   ],
   "source": [
    "'''graph1 = WebsiteGraphMP(start_url=\"https://en.wikipedia.org/wiki/Data_science\", max_depth=1, max_links=10, path_regex=r\"^/wiki/[A-Za-z_]+$\")\n",
    "graph1()\n",
    "\n",
    "graph2 = WebsiteGraphMP(start_url=\"https://en.wikipedia.org/wiki/Artificial_intelligence\", max_depth=1, max_links=10, path_regex=r\"^/wiki/[A-Za-z_]+$\")\n",
    "graph2()\n",
    "\n",
    "union_graph = graph1 + graph2\n",
    "union_graph.visualize()'''"
   ]
  },
  {
   "cell_type": "markdown",
   "metadata": {},
   "source": [
    "## Predicting time for crawling"
   ]
  },
  {
   "cell_type": "code",
   "execution_count": 7,
   "metadata": {},
   "outputs": [
    {
     "data": {
      "text/plain": [
       "\"results = graph1._prev_results()\\ngran_mean_times = results.groupby(['max_depth','max_links','workers'])[['crawl_time']].agg(['mean'])\\ngran_mean_times.loc[4,10].mean()\""
      ]
     },
     "execution_count": 7,
     "metadata": {},
     "output_type": "execute_result"
    }
   ],
   "source": [
    "'''results = graph1._prev_results()\n",
    "gran_mean_times = results.groupby(['max_depth','max_links','workers'])[['crawl_time']].agg(['mean'])\n",
    "gran_mean_times.loc[4,10].mean()'''"
   ]
  },
  {
   "cell_type": "code",
   "execution_count": 8,
   "metadata": {},
   "outputs": [
    {
     "data": {
      "text/plain": [
       "\"\\n\\nfrom statsmodels.api import OLS\\nfrom sklearn.preprocessing import PolynomialFeatures\\n\\nX = results[['max_depth','max_links','workers']].values\\ny = results['crawl_time'].values\\n\\nX = PolynomialFeatures(degree=2).fit_transform(X)\\nmodel = OLS(y,X)\\nmodel = model.fit()\\nmodel.summary()\\n\\nmodel.predict(PolynomialFeatures(degree=2).fit_transform([[10,10,10]]))[0]\""
      ]
     },
     "execution_count": 8,
     "metadata": {},
     "output_type": "execute_result"
    }
   ],
   "source": [
    "'''\n",
    "\n",
    "from statsmodels.api import OLS\n",
    "from sklearn.preprocessing import PolynomialFeatures\n",
    "\n",
    "X = results[['max_depth','max_links','workers']].values\n",
    "y = results['crawl_time'].values\n",
    "\n",
    "X = PolynomialFeatures(degree=2).fit_transform(X)\n",
    "model = OLS(y,X)\n",
    "model = model.fit()\n",
    "model.summary()\n",
    "\n",
    "model.predict(PolynomialFeatures(degree=2).fit_transform([[10,10,10]]))[0]'''"
   ]
  },
  {
   "cell_type": "markdown",
   "metadata": {},
   "source": [
    "## some more examples"
   ]
  },
  {
   "cell_type": "code",
   "execution_count": 13,
   "metadata": {},
   "outputs": [
    {
     "name": "stderr",
     "output_type": "stream",
     "text": [
      "2025-03-30 15:24:25,758 - INFO - Starting program\n",
      "2025-03-30 15:24:25,766 - INFO - Starting crawl\n",
      "2025-03-30 15:24:25,772 - INFO - Fetching (depth 0): https://en.wikipedia.org/wiki/Kriging\n"
     ]
    },
    {
     "name": "stdout",
     "output_type": "stream",
     "text": [
      "Predicted time for crawling: 68.93369356791179\n"
     ]
    },
    {
     "name": "stderr",
     "output_type": "stream",
     "text": [
      "2025-03-30 15:24:25,993 - INFO - Fetching (depth 1): https://en.wikipedia.org/wiki/Statistics\n",
      "2025-03-30 15:24:25,993 - INFO - Fetching (depth 1): https://en.wikipedia.org/wiki/Best_linear_unbiased_prediction\n",
      "2025-03-30 15:24:25,994 - INFO - Fetching (depth 1): https://en.wikipedia.org/wiki/Geostatistics\n",
      "2025-03-30 15:24:25,994 - INFO - Fetching (depth 1): https://en.wikipedia.org/wiki/Credible_interval\n",
      "2025-03-30 15:24:25,995 - INFO - Fetching (depth 1): https://en.wikipedia.org/wiki/Interpolation\n",
      "2025-03-30 15:24:25,996 - INFO - Fetching (depth 1): https://en.wikipedia.org/wiki/Smoothness\n",
      "2025-03-30 15:24:25,998 - INFO - Fetching (depth 1): https://en.wikipedia.org/wiki/Smoothing_spline\n",
      "2025-03-30 15:24:26,002 - INFO - Fetching (depth 1): https://en.wikipedia.org/wiki/Gaussian_process\n",
      "2025-03-30 15:24:26,003 - INFO - Fetching (depth 1): https://en.wikipedia.org/wiki/Covariance\n",
      "2025-03-30 15:24:27,112 - INFO - Fetching (depth 2): https://en.wikipedia.org/wiki/Outline_of_statistics\n",
      "2025-03-30 15:24:27,113 - INFO - Fetching (depth 2): https://en.wikipedia.org/wiki/Iris_flower_data_set\n",
      "2025-03-30 15:24:27,113 - INFO - Fetching (depth 2): https://en.wikipedia.org/wiki/Line_chart\n",
      "2025-03-30 15:24:27,113 - INFO - Fetching (depth 2): https://en.wikipedia.org/wiki/Inferential_statistics\n",
      "2025-03-30 15:24:27,114 - INFO - Fetching (depth 2): https://en.wikipedia.org/wiki/Scatter_plot\n",
      "2025-03-30 15:24:27,114 - INFO - Fetching (depth 2): https://en.wikipedia.org/wiki/Descriptive_statistics\n",
      "2025-03-30 15:24:27,114 - INFO - Fetching (depth 2): https://en.wikipedia.org/wiki/Statistic\n",
      "2025-03-30 15:24:27,114 - INFO - Fetching (depth 2): https://en.wikipedia.org/wiki/Normal_distribution\n",
      "2025-03-30 15:24:27,114 - INFO - Fetching (depth 2): https://en.wikipedia.org/wiki/Dependent_and_independent_variables\n",
      "2025-03-30 15:24:27,114 - INFO - Fetching (depth 2): https://en.wikipedia.org/wiki/Probability_density_function\n",
      "2025-03-30 15:24:27,433 - INFO - Fetching (depth 2): https://en.wikipedia.org/wiki/Mixed_model\n",
      "2025-03-30 15:24:27,673 - INFO - Fetching (depth 2): https://en.wikipedia.org/wiki/Random_effects_model\n",
      "2025-03-30 15:24:27,709 - INFO - Fetching (depth 2): https://en.wikipedia.org/wiki/University_of_Guelph\n",
      "2025-03-30 15:24:27,769 - INFO - Fetching (depth 2): https://en.wikipedia.org/wiki/Empirical_Bayes\n",
      "2025-03-30 15:24:27,820 - INFO - Fetching (depth 2): https://en.wikipedia.org/wiki/Charles_Roy_Henderson\n",
      "2025-03-30 15:24:27,904 - INFO - Fetching (depth 2): https://en.wikipedia.org/wiki/Best_linear_unbiased_estimator\n",
      "2025-03-30 15:24:27,933 - INFO - Fetching (depth 2): https://en.wikipedia.org/wiki/Index_selection\n",
      "2025-03-30 15:24:27,935 - ERROR - Unexpected error for https://en.wikipedia.org/wiki/Charles_Roy_Henderson: bad parameter or other API misuse\n",
      "2025-03-30 15:24:27,942 - INFO - Fetching (depth 2): https://en.wikipedia.org/wiki/Dataset\n",
      "2025-03-30 15:24:28,110 - INFO - Fetching (depth 2): https://en.wikipedia.org/wiki/Probability_distribution\n",
      "2025-03-30 15:24:28,261 - INFO - Fetching (depth 2): https://en.wikipedia.org/wiki/Spacetime\n",
      "2025-03-30 15:24:28,272 - INFO - Fetching (depth 2): https://en.wikipedia.org/wiki/Mining\n",
      "2025-03-30 15:24:28,336 - ERROR - Unexpected error for https://en.wikipedia.org/wiki/Probability_distribution: no more rows available\n",
      "2025-03-30 15:24:28,426 - INFO - Fetching (depth 2): https://en.wikipedia.org/wiki/Hydrogeology\n",
      "2025-03-30 15:24:28,427 - ERROR - Unexpected error for https://en.wikipedia.org/wiki/Spacetime: Ran out of input\n",
      "2025-03-30 15:24:28,660 - INFO - Fetching (depth 2): https://en.wikipedia.org/wiki/Ore_grade\n",
      "2025-03-30 15:24:28,716 - INFO - Fetching (depth 2): https://en.wikipedia.org/wiki/Statistical_geography\n",
      "2025-03-30 15:24:28,779 - INFO - Fetching (depth 2): https://en.wikipedia.org/wiki/Petroleum_geology\n",
      "2025-03-30 15:24:29,002 - INFO - Fetching (depth 2): https://en.wikipedia.org/wiki/Bayesian_probability\n",
      "2025-03-30 15:24:29,015 - INFO - Fetching (depth 2): https://en.wikipedia.org/wiki/Likelihood_function\n",
      "2025-03-30 15:24:29,310 - INFO - Fetching (depth 2): https://en.wikipedia.org/wiki/Bayesian_statistics\n",
      "2025-03-30 15:24:29,629 - INFO - Fetching (depth 2): https://en.wikipedia.org/wiki/Marginal_likelihood\n",
      "2025-03-30 15:24:29,752 - INFO - Fetching (depth 2): https://en.wikipedia.org/wiki/Bayesian_inference\n",
      "2025-03-30 15:24:29,780 - INFO - Fetching (depth 2): https://en.wikipedia.org/wiki/Likelihood_principle\n",
      "2025-03-30 15:24:29,956 - INFO - Fetching (depth 2): https://en.wikipedia.org/wiki/Posterior_probability\n",
      "2025-03-30 15:24:30,139 - INFO - Fetching (depth 2): https://en.wikipedia.org/wiki/Principle_of_indifference\n",
      "2025-03-30 15:24:30,195 - INFO - Fetching (depth 2): https://en.wikipedia.org/wiki/Prior_probability\n",
      "2025-03-30 15:24:30,344 - INFO - Fetching (depth 2): https://en.wikipedia.org/wiki/Estimation\n",
      "2025-03-30 15:24:30,386 - INFO - Fetching (depth 2): https://en.wikipedia.org/wiki/Mathematics\n",
      "2025-03-30 15:24:30,438 - INFO - Fetching (depth 2): https://en.wikipedia.org/wiki/Numerical_analysis\n",
      "2025-03-30 15:24:30,728 - INFO - Fetching (depth 2): https://en.wikipedia.org/wiki/Discrete_set\n",
      "2025-03-30 15:24:30,806 - INFO - Fetching (depth 2): https://en.wikipedia.org/wiki/Experimentation\n",
      "2025-03-30 15:24:30,849 - INFO - Fetching (depth 2): https://en.wikipedia.org/wiki/Science\n",
      "2025-03-30 15:24:30,935 - INFO - Fetching (depth 2): https://en.wikipedia.org/wiki/Data_points\n",
      "2025-03-30 15:24:31,147 - INFO - Fetching (depth 2): https://en.wikipedia.org/wiki/Engineering\n",
      "2025-03-30 15:24:31,244 - INFO - Fetching (depth 2): https://en.wikipedia.org/wiki/Bump_function\n",
      "2025-03-30 15:24:31,348 - INFO - Fetching (depth 2): https://en.wikipedia.org/wiki/Order_of_derivation\n",
      "2025-03-30 15:24:31,506 - ERROR - Unexpected error for https://en.wikipedia.org/wiki/Bump_function: bad parameter or other API misuse\n",
      "2025-03-30 15:24:31,532 - INFO - Fetching (depth 2): https://en.wikipedia.org/wiki/Compact_support\n",
      "2025-03-30 15:24:31,536 - INFO - Fetching (depth 2): https://en.wikipedia.org/wiki/Mathematical_analysis\n",
      "2025-03-30 15:24:31,566 - INFO - Fetching (depth 2): https://en.wikipedia.org/wiki/Continuous_function\n",
      "2025-03-30 15:24:31,602 - INFO - Fetching (depth 2): https://en.wikipedia.org/wiki/Domain_of_a_function\n",
      "2025-03-30 15:24:31,690 - INFO - Fetching (depth 2): https://en.wikipedia.org/wiki/Smooth_number\n",
      "2025-03-30 15:24:31,712 - INFO - Fetching (depth 2): https://en.wikipedia.org/wiki/Complex_coordinate_space\n",
      "2025-03-30 15:24:32,067 - INFO - Fetching (depth 2): https://en.wikipedia.org/wiki/Riemann_sphere\n",
      "2025-03-30 15:24:32,799 - INFO - Fetching (depth 2): https://en.wikipedia.org/wiki/Second_derivative\n",
      "2025-03-30 15:24:32,894 - INFO - Fetching (depth 2): https://en.wikipedia.org/wiki/Goodness_of_fit\n",
      "2025-03-30 15:24:32,991 - INFO - Fetching (depth 2): https://en.wikipedia.org/wiki/Interpolating_spline\n",
      "2025-03-30 15:24:33,109 - INFO - Fetching (depth 2): https://en.wikipedia.org/wiki/Thin_plate_spline\n",
      "2025-03-30 15:24:33,170 - INFO - Fetching (depth 2): https://en.wikipedia.org/wiki/Christian_Reinsch\n",
      "2025-03-30 15:24:33,209 - INFO - Fetching (depth 2): https://en.wikipedia.org/wiki/Cubic_splines\n",
      "2025-03-30 15:24:33,457 - INFO - Fetching (depth 2): https://en.wikipedia.org/wiki/Ordinary_least_squares\n",
      "2025-03-30 15:24:33,534 - INFO - Fetching (depth 2): https://en.wikipedia.org/wiki/Sobolev_space\n",
      "2025-03-30 15:24:33,597 - INFO - Fetching (depth 2): https://en.wikipedia.org/wiki/Curve_fitting\n",
      "2025-03-30 15:24:33,623 - INFO - Fetching (depth 2): https://en.wikipedia.org/wiki/Random_process\n",
      "2025-03-30 15:24:33,824 - INFO - Fetching (depth 2): https://en.wikipedia.org/wiki/Carl_Friedrich_Gauss\n",
      "2025-03-30 15:24:33,970 - INFO - Fetching (depth 2): https://en.wikipedia.org/wiki/Statistical_model\n",
      "2025-03-30 15:24:34,480 - INFO - Fetching (depth 2): https://en.wikipedia.org/wiki/Joint_distribution\n",
      "2025-03-30 15:24:34,622 - INFO - Fetching (depth 2): https://en.wikipedia.org/wiki/Stochastic_process\n",
      "2025-03-30 15:24:34,747 - INFO - Fetching (depth 2): https://en.wikipedia.org/wiki/Probability_theory\n",
      "2025-03-30 15:24:34,753 - INFO - Fetching (depth 2): https://en.wikipedia.org/wiki/Multivariate_normal_distribution\n",
      "2025-03-30 15:24:34,803 - INFO - Fetching (depth 2): https://en.wikipedia.org/wiki/Statistical_population\n",
      "2025-03-30 15:24:35,210 - INFO - Fetching (depth 2): https://en.wikipedia.org/wiki/Joint_probability_distribution\n",
      "2025-03-30 15:24:35,496 - INFO - Fetching (depth 2): https://en.wikipedia.org/wiki/Random_variable\n",
      "2025-03-30 15:24:35,695 - INFO - Fetching (depth 2): https://en.wikipedia.org/wiki/Statistical_estimation\n",
      "2025-03-30 15:24:36,198 - INFO - Fetching (depth 2): https://en.wikipedia.org/wiki/Linear_relationship\n",
      "2025-03-30 15:24:36,533 - INFO - Fetching (depth 2): https://en.wikipedia.org/wiki/Statistical_parameter\n",
      "2025-03-30 15:24:38,158 - INFO - Fetching (depth 3): https://en.wikipedia.org/wiki/List_of_statistics_journals\n",
      "2025-03-30 15:24:38,158 - INFO - Fetching (depth 3): https://en.wikipedia.org/wiki/List_of_academic_disciplines\n",
      "2025-03-30 15:24:38,158 - INFO - Fetching (depth 3): https://en.wikipedia.org/wiki/Notation_in_probability_and_statistics\n",
      "2025-03-30 15:24:38,158 - INFO - Fetching (depth 3): https://en.wikipedia.org/wiki/Lists_of_statistics_topics\n",
      "2025-03-30 15:24:38,158 - INFO - Fetching (depth 3): https://en.wikipedia.org/wiki/Data\n",
      "2025-03-30 15:24:38,159 - INFO - Fetching (depth 3): https://en.wikipedia.org/wiki/List_of_statisticians\n",
      "2025-03-30 15:24:38,159 - INFO - Fetching (depth 3): https://en.wikipedia.org/wiki/List_of_statistics_articles\n",
      "2025-03-30 15:24:38,159 - INFO - Fetching (depth 3): https://en.wikipedia.org/wiki/Glossary_of_probability_and_statistics\n",
      "2025-03-30 15:24:38,159 - INFO - Fetching (depth 3): https://en.wikipedia.org/wiki/Linear_discriminant_analysis\n",
      "2025-03-30 15:24:38,159 - INFO - Fetching (depth 3): https://en.wikipedia.org/wiki/Ronald_Fisher\n",
      "2025-03-30 15:24:38,531 - INFO - Fetching (depth 3): https://en.wikipedia.org/wiki/Statistician\n",
      "2025-03-30 15:24:38,534 - INFO - Fetching (depth 3): https://en.wikipedia.org/wiki/Edgar_Anderson\n",
      "2025-03-30 15:24:38,873 - INFO - Fetching (depth 3): https://en.wikipedia.org/wiki/Iris_setosa\n",
      "2025-03-30 15:24:38,913 - INFO - Fetching (depth 3): https://en.wikipedia.org/wiki/Data_set\n",
      "2025-03-30 15:24:38,954 - INFO - Fetching (depth 3): https://en.wikipedia.org/wiki/Multivariate_statistics\n",
      "2025-03-30 15:24:39,147 - INFO - Fetching (depth 3): https://en.wikipedia.org/wiki/Scatterplot\n",
      "2025-03-30 15:24:39,199 - INFO - Fetching (depth 3): https://en.wikipedia.org/wiki/Biologist\n",
      "2025-03-30 15:24:39,374 - INFO - Fetching (depth 3): https://en.wikipedia.org/wiki/Nicolaus_Samuel_Cruquius\n",
      "2025-03-30 15:24:39,433 - INFO - Fetching (depth 3): https://en.wikipedia.org/wiki/William_Playfair\n",
      "2025-03-30 15:24:39,467 - INFO - Fetching (depth 3): https://en.wikipedia.org/wiki/Run_chart\n",
      "2025-03-30 15:24:39,632 - INFO - Fetching (depth 3): https://en.wikipedia.org/wiki/Line_graph\n",
      "2025-03-30 15:24:39,649 - INFO - Fetching (depth 3): https://en.wikipedia.org/wiki/Johann_Heinrich_Lambert\n",
      "2025-03-30 15:24:40,057 - INFO - Fetching (depth 3): https://en.wikipedia.org/wiki/Time_series\n",
      "2025-03-30 15:24:40,140 - ERROR - Unexpected error for https://en.wikipedia.org/wiki/Johann_Heinrich_Lambert: bad parameter or other API misuse\n",
      "2025-03-30 15:24:40,232 - INFO - Fetching (depth 3): https://en.wikipedia.org/wiki/Francis_Hauksbee\n",
      "2025-03-30 15:24:40,468 - INFO - Fetching (depth 3): https://en.wikipedia.org/wiki/Chart\n",
      "2025-03-30 15:24:40,826 - INFO - Fetching (depth 3): https://en.wikipedia.org/wiki/Research\n",
      "2025-03-30 15:24:41,093 - INFO - Fetching (depth 3): https://en.wikipedia.org/wiki/Research_proposal\n",
      "2025-03-30 15:24:41,124 - INFO - Fetching (depth 3): https://en.wikipedia.org/wiki/Argument\n",
      "2025-03-30 15:24:41,406 - INFO - Fetching (depth 3): https://en.wikipedia.org/wiki/Research_question\n",
      "2025-03-30 15:24:41,703 - INFO - Fetching (depth 3): https://en.wikipedia.org/wiki/Research_design\n",
      "2025-03-30 15:24:41,881 - INFO - Fetching (depth 3): https://en.wikipedia.org/wiki/Research_ethics\n",
      "2025-03-30 15:24:41,903 - INFO - Fetching (depth 3): https://en.wikipedia.org/wiki/Statistical_inference\n",
      "2025-03-30 15:24:42,105 - INFO - Fetching (depth 3): https://en.wikipedia.org/wiki/Statistical_interference\n",
      "2025-03-30 15:24:42,271 - INFO - Fetching (depth 3): https://en.wikipedia.org/wiki/Academic_writing\n",
      "2025-03-30 15:24:42,310 - INFO - Fetching (depth 3): https://en.wikipedia.org/wiki/Seven_Basic_Tools_of_Quality\n",
      "2025-03-30 15:24:42,834 - INFO - Fetching (depth 3): https://en.wikipedia.org/wiki/John_Herschel\n",
      "2025-03-30 15:24:43,312 - INFO - Fetching (depth 3): https://en.wikipedia.org/wiki/Correlogram\n",
      "2025-03-30 15:24:43,560 - INFO - Fetching (depth 3): https://en.wikipedia.org/wiki/Yellowstone_National_Park\n",
      "2025-03-30 15:24:43,940 - INFO - Fetching (depth 3): https://en.wikipedia.org/wiki/Cartesian_coordinate_system\n",
      "2025-03-30 15:24:44,013 - INFO - Fetching (depth 3): https://en.wikipedia.org/wiki/Wyoming\n",
      "2025-03-30 15:24:44,071 - INFO - Fetching (depth 3): https://en.wikipedia.org/wiki/Mathematical_diagram\n",
      "2025-03-30 15:24:44,196 - INFO - Fetching (depth 3): https://en.wikipedia.org/wiki/Old_Faithful_Geyser\n",
      "2025-03-30 15:24:44,256 - INFO - Fetching (depth 3): https://en.wikipedia.org/wiki/Scatter_matrix\n",
      "2025-03-30 15:24:44,420 - INFO - Fetching (depth 3): https://en.wikipedia.org/wiki/Interdisciplinarity\n",
      "2025-03-30 15:24:44,486 - INFO - Fetching (depth 3): https://en.wikipedia.org/wiki/Citation\n",
      "2025-03-30 15:24:44,613 - ERROR - Unexpected error for https://en.wikipedia.org/wiki/Scatter_matrix: bad parameter or other API misuse\n",
      "2025-03-30 15:24:44,674 - INFO - Fetching (depth 3): https://en.wikipedia.org/wiki/Bias_of_an_estimator\n",
      "2025-03-30 15:24:44,872 - INFO - Fetching (depth 3): https://en.wikipedia.org/wiki/Descriptive_statistic\n",
      "2025-03-30 15:24:45,172 - INFO - Fetching (depth 3): https://en.wikipedia.org/wiki/Estimator\n",
      "2025-03-30 15:24:45,634 - INFO - Fetching (depth 3): https://en.wikipedia.org/wiki/Expected_value\n",
      "2025-03-30 15:24:45,815 - INFO - Fetching (depth 3): https://en.wikipedia.org/wiki/Sample_mean\n",
      "2025-03-30 15:24:45,820 - INFO - Fetching (depth 3): https://en.wikipedia.org/wiki/Population_mean\n",
      "2025-03-30 15:24:46,266 - INFO - Fetching (depth 3): https://en.wikipedia.org/wiki/Arithmetic_mean\n",
      "2025-03-30 15:24:47,283 - INFO - Fetching (depth 3): https://en.wikipedia.org/wiki/Variance\n",
      "2025-03-30 15:24:48,253 - INFO - Fetching (depth 3): https://en.wikipedia.org/wiki/Quantile_function\n",
      "2025-03-30 15:24:48,282 - INFO - Fetching (depth 3): https://en.wikipedia.org/wiki/Mean\n",
      "2025-03-30 15:24:49,386 - INFO - Fetching (depth 3): https://en.wikipedia.org/wiki/Location_parameter\n",
      "2025-03-30 15:24:49,391 - ERROR - Unexpected error for https://en.wikipedia.org/wiki/Variance: bad parameter or other API misuse\n",
      "2025-03-30 15:24:49,799 - INFO - Fetching (depth 3): https://en.wikipedia.org/wiki/Cumulative_distribution_function\n",
      "2025-03-30 15:24:49,863 - INFO - Fetching (depth 3): https://en.wikipedia.org/wiki/Scale_parameter\n",
      "2025-03-30 15:24:50,044 - INFO - Fetching (depth 3): https://en.wikipedia.org/wiki/Absolutely_continuous_random_variable\n",
      "2025-03-30 15:24:50,055 - INFO - Fetching (depth 3): https://en.wikipedia.org/wiki/Box_plot\n",
      "2025-03-30 15:24:50,108 - INFO - Fetching (depth 3): https://en.wikipedia.org/wiki/Relative_likelihood\n",
      "2025-03-30 15:24:50,134 - INFO - Fetching (depth 3): https://en.wikipedia.org/wiki/Sample_space\n",
      "2025-03-30 15:24:50,134 - INFO - Fetching (depth 3): https://en.wikipedia.org/wiki/Integral\n",
      "2025-03-30 15:24:50,211 - INFO - Fetching (depth 3): https://en.wikipedia.org/wiki/Experiment\n",
      "2025-03-30 15:24:50,308 - INFO - Fetching (depth 3): https://en.wikipedia.org/wiki/Time\n",
      "2025-03-30 15:24:50,500 - ERROR - Unexpected error for https://en.wikipedia.org/wiki/Integral: bad parameter or other API misuse\n",
      "2025-03-30 15:24:50,545 - INFO - Fetching (depth 3): https://en.wikipedia.org/wiki/Space\n",
      "2025-03-30 15:24:50,546 - INFO - Fetching (depth 3): https://en.wikipedia.org/wiki/Mathematical_function\n",
      "2025-03-30 15:24:50,614 - INFO - Fetching (depth 3): https://en.wikipedia.org/wiki/Mass\n",
      "2025-03-30 15:24:50,767 - INFO - Fetching (depth 3): https://en.wikipedia.org/wiki/Density\n",
      "2025-03-30 15:24:50,819 - INFO - Fetching (depth 3): https://en.wikipedia.org/wiki/Conceptual_model\n",
      "2025-03-30 15:24:50,866 - ERROR - Unexpected error for https://en.wikipedia.org/wiki/Mass: bad parameter or other API misuse\n",
      "2025-03-30 15:24:50,969 - INFO - Fetching (depth 3): https://en.wikipedia.org/wiki/Volumetric_flow_rate\n",
      "2025-03-30 15:24:51,007 - INFO - Fetching (depth 3): https://en.wikipedia.org/wiki/Mixture_model\n",
      "2025-03-30 15:24:51,045 - INFO - Fetching (depth 3): https://en.wikipedia.org/wiki/Linear_regression\n",
      "2025-03-30 15:24:51,096 - ERROR - Unexpected error for https://en.wikipedia.org/wiki/Density: bad parameter or other API misuse\n",
      "2025-03-30 15:24:51,127 - INFO - Fetching (depth 3): https://en.wikipedia.org/wiki/Simple_linear_regression\n",
      "2025-03-30 15:24:51,128 - INFO - Fetching (depth 3): https://en.wikipedia.org/wiki/General_linear_model\n",
      "2025-03-30 15:24:51,491 - INFO - Fetching (depth 3): https://en.wikipedia.org/wiki/Regression_analysis\n",
      "2025-03-30 15:24:51,653 - INFO - Fetching (depth 3): https://en.wikipedia.org/wiki/Generalized_linear_model\n",
      "2025-03-30 15:24:51,688 - INFO - Fetching (depth 3): https://en.wikipedia.org/wiki/Vector_generalized_linear_model\n",
      "2025-03-30 15:24:51,769 - INFO - Fetching (depth 3): https://en.wikipedia.org/wiki/Discrete_choice\n",
      "2025-03-30 15:24:51,816 - INFO - Fetching (depth 3): https://en.wikipedia.org/wiki/Polynomial_regression\n",
      "2025-03-30 15:24:52,135 - INFO - Fetching (depth 3): https://en.wikipedia.org/wiki/Random_coefficient_model\n",
      "2025-03-30 15:24:52,341 - INFO - Fetching (depth 3): https://en.wikipedia.org/wiki/University_president\n",
      "2025-03-30 15:24:52,396 - ERROR - Unexpected error for https://en.wikipedia.org/wiki/Polynomial_regression: bad parameter or other API misuse\n",
      "2025-03-30 15:24:52,576 - INFO - Fetching (depth 3): https://en.wikipedia.org/wiki/Latin_language\n",
      "2025-03-30 15:24:52,682 - INFO - Fetching (depth 3): https://en.wikipedia.org/wiki/Undergraduate_education\n",
      "2025-03-30 15:24:52,682 - ERROR - Unexpected error for https://en.wikipedia.org/wiki/Generalized_linear_model: bad parameter or other API misuse\n",
      "2025-03-30 15:24:52,706 - INFO - Fetching (depth 3): https://en.wikipedia.org/wiki/Financial_endowment\n",
      "2025-03-30 15:24:52,784 - ERROR - Unexpected error for https://en.wikipedia.org/wiki/Random_coefficient_model: bad parameter or other API misuse\n",
      "2025-03-30 15:24:53,178 - INFO - Fetching (depth 3): https://en.wikipedia.org/wiki/Geographic_coordinate_system\n",
      "2025-03-30 15:24:53,184 - INFO - Fetching (depth 3): https://en.wikipedia.org/wiki/Public_university\n",
      "2025-03-30 15:24:53,186 - INFO - Fetching (depth 3): https://en.wikipedia.org/wiki/Ontario_Veterinary_College\n",
      "2025-03-30 15:24:53,200 - INFO - Fetching (depth 3): https://en.wikipedia.org/wiki/Coat_of_arms\n",
      "2025-03-30 15:24:53,355 - INFO - Fetching (depth 3): https://en.wikipedia.org/wiki/Ontario_Agricultural_College\n",
      "2025-03-30 15:24:53,355 - ERROR - Unable to deserialize response: a bytes-like object is required, not 'NoneType'\n",
      "2025-03-30 15:24:53,416 - INFO - Fetching (depth 3): https://en.wikipedia.org/wiki/Empirical_Bayes_method\n",
      "2025-03-30 15:24:53,794 - INFO - Fetching (depth 3): https://en.wikipedia.org/wiki/Blue\n",
      "2025-03-30 15:24:53,958 - INFO - Fetching (depth 3): https://en.wikipedia.org/wiki/Tandem_selection\n",
      "2025-03-30 15:24:54,004 - INFO - Fetching (depth 3): https://en.wikipedia.org/wiki/Artificial_selection\n",
      "2025-03-30 15:24:54,095 - INFO - Fetching (depth 3): https://en.wikipedia.org/wiki/Genetics\n",
      "2025-03-30 15:24:54,286 - INFO - Fetching (depth 3): https://en.wikipedia.org/wiki/Statistical_measure\n",
      "2025-03-30 15:24:54,317 - INFO - Fetching (depth 3): https://en.wikipedia.org/wiki/Standard_deviation\n",
      "2025-03-30 15:24:54,500 - INFO - Fetching (depth 3): https://en.wikipedia.org/wiki/Modem\n",
      "2025-03-30 15:24:54,510 - INFO - Fetching (depth 3): https://en.wikipedia.org/wiki/Kurtosis\n",
      "2025-03-30 15:24:54,592 - INFO - Fetching (depth 3): https://en.wikipedia.org/wiki/Open_data\n",
      "2025-03-30 15:24:54,657 - INFO - Fetching (depth 3): https://en.wikipedia.org/wiki/Ijen\n",
      "2025-03-30 15:24:55,144 - INFO - Fetching (depth 3): https://en.wikipedia.org/wiki/Ore\n",
      "2025-03-30 15:24:55,327 - INFO - Fetching (depth 3): https://en.wikipedia.org/wiki/Chemical_synthesis\n",
      "2025-03-30 15:24:55,495 - INFO - Fetching (depth 3): https://en.wikipedia.org/wiki/Agriculture\n",
      "2025-03-30 15:24:55,742 - INFO - Fetching (depth 3): https://en.wikipedia.org/wiki/Laboratory\n",
      "2025-03-30 15:24:55,767 - INFO - Fetching (depth 3): https://en.wikipedia.org/wiki/Resource_extraction\n",
      "2025-03-30 15:24:55,822 - INFO - Fetching (depth 3): https://en.wikipedia.org/wiki/Sulfur\n",
      "2025-03-30 15:24:55,845 - INFO - Fetching (depth 3): https://en.wikipedia.org/wiki/Stone_industry\n",
      "2025-03-30 15:24:55,940 - INFO - Fetching (depth 3): https://en.wikipedia.org/wiki/Earth\n",
      "2025-03-30 15:24:56,209 - ERROR - Unexpected error for https://en.wikipedia.org/wiki/Agriculture: bad parameter or other API misuse\n",
      "2025-03-30 15:24:56,272 - INFO - Fetching (depth 3): https://en.wikipedia.org/wiki/Udayapur_District\n",
      "2025-03-30 15:24:56,274 - INFO - Fetching (depth 3): https://en.wikipedia.org/wiki/Karst\n",
      "2025-03-30 15:24:56,302 - ERROR - Unexpected error for https://en.wikipedia.org/wiki/Chemical_synthesis: bad parameter or other API misuse\n",
      "2025-03-30 15:24:56,369 - INFO - Fetching (depth 3): https://en.wikipedia.org/wiki/Thailand\n",
      "2025-03-30 15:24:56,371 - INFO - Fetching (depth 3): https://en.wikipedia.org/wiki/Italy\n",
      "2025-03-30 15:24:56,497 - INFO - Fetching (depth 3): https://en.wikipedia.org/wiki/Piemonte\n",
      "2025-03-30 15:24:56,570 - INFO - Fetching (depth 3): https://en.wikipedia.org/wiki/Nepal\n",
      "2025-03-30 15:24:56,699 - INFO - Fetching (depth 3): https://en.wikipedia.org/wiki/Phu_Sang_National_Park\n",
      "2025-03-30 15:24:56,780 - INFO - Fetching (depth 3): https://en.wikipedia.org/wiki/Cuneo\n",
      "2025-03-30 15:24:57,042 - INFO - Fetching (depth 3): https://en.wikipedia.org/wiki/Hydrology\n",
      "2025-03-30 15:24:57,083 - INFO - Fetching (depth 3): https://en.wikipedia.org/wiki/Sediment\n",
      "2025-03-30 15:24:57,236 - INFO - Fetching (depth 3): https://en.wikipedia.org/wiki/Galena\n",
      "2025-03-30 15:24:57,312 - INFO - Fetching (depth 3): https://en.wikipedia.org/wiki/Banded_iron_formation\n",
      "2025-03-30 15:24:57,898 - INFO - Fetching (depth 3): https://en.wikipedia.org/wiki/Iron\n",
      "2025-03-30 15:24:57,949 - INFO - Fetching (depth 3): https://en.wikipedia.org/wiki/Psilomelane\n",
      "2025-03-30 15:24:59,041 - INFO - Fetching (depth 3): https://en.wikipedia.org/wiki/Anglesite\n",
      "2025-03-30 15:24:59,196 - INFO - Fetching (depth 3): https://en.wikipedia.org/wiki/Manganese\n",
      "2025-03-30 15:24:59,221 - INFO - Fetching (depth 3): https://en.wikipedia.org/wiki/Lead\n",
      "2025-03-30 15:24:59,234 - INFO - Fetching (depth 3): https://en.wikipedia.org/wiki/Spatial_analysis\n",
      "2025-03-30 15:24:59,563 - INFO - Fetching (depth 3): https://en.wikipedia.org/wiki/Spatial_descriptive_statistics\n",
      "2025-03-30 15:24:59,597 - INFO - Fetching (depth 3): https://en.wikipedia.org/wiki/Australian_Bureau_of_Statistics\n",
      "2025-03-30 15:24:59,670 - INFO - Fetching (depth 3): https://en.wikipedia.org/wiki/Australia\n",
      "2025-03-30 15:25:00,454 - INFO - Fetching (depth 3): https://en.wikipedia.org/wiki/Geographer\n",
      "2025-03-30 15:25:00,793 - INFO - Fetching (depth 3): https://en.wikipedia.org/wiki/Modifiable_areal_unit_problem\n",
      "2025-03-30 15:25:00,882 - INFO - Fetching (depth 3): https://en.wikipedia.org/wiki/States_and_territories_of_Australia\n",
      "2025-03-30 15:25:00,909 - INFO - Fetching (depth 3): https://en.wikipedia.org/wiki/New_Zealand\n",
      "2025-03-30 15:25:00,943 - INFO - Fetching (depth 3): https://en.wikipedia.org/wiki/Hydrocarbons\n",
      "2025-03-30 15:25:01,034 - INFO - Fetching (depth 3): https://en.wikipedia.org/wiki/Sedimentary_basin\n",
      "2025-03-30 15:25:01,328 - INFO - Fetching (depth 3): https://en.wikipedia.org/wiki/Oil_exploration\n",
      "2025-03-30 15:25:01,571 - INFO - Fetching (depth 3): https://en.wikipedia.org/wiki/Caprock\n",
      "2025-03-30 15:25:01,907 - INFO - Fetching (depth 3): https://en.wikipedia.org/wiki/Oil\n",
      "2025-03-30 15:25:02,101 - INFO - Fetching (depth 3): https://en.wikipedia.org/wiki/Hydrocarbon_fuel\n",
      "2025-03-30 15:25:02,190 - INFO - Fetching (depth 3): https://en.wikipedia.org/wiki/Structural_trap\n",
      "2025-03-30 15:25:02,437 - INFO - Fetching (depth 3): https://en.wikipedia.org/wiki/Petroleum_reservoir\n",
      "2025-03-30 15:25:02,515 - INFO - Fetching (depth 3): https://en.wikipedia.org/wiki/Source_rock\n",
      "2025-03-30 15:25:02,549 - INFO - Fetching (depth 3): https://en.wikipedia.org/wiki/Principle_of_maximum_entropy\n",
      "2025-03-30 15:25:02,633 - INFO - Fetching (depth 3): https://en.wikipedia.org/wiki/Confidence_interval\n",
      "2025-03-30 15:25:02,706 - ERROR - Unexpected error for https://en.wikipedia.org/wiki/Principle_of_maximum_entropy: bad parameter or other API misuse\n",
      "2025-03-30 15:25:02,721 - INFO - Fetching (depth 3): https://en.wikipedia.org/wiki/Approximation\n",
      "2025-03-30 15:25:02,767 - INFO - Fetching (depth 3): https://en.wikipedia.org/wiki/Complete_measure\n",
      "2025-03-30 15:25:02,907 - INFO - Fetching (depth 3): https://en.wikipedia.org/wiki/Uncertainty\n",
      "2025-03-30 15:25:02,912 - INFO - Fetching (depth 3): https://en.wikipedia.org/wiki/Estimated_sign\n",
      "2025-03-30 15:25:02,938 - ERROR - Unexpected error for https://en.wikipedia.org/wiki/Source_rock: bad parameter or other API misuse\n",
      "2025-03-30 15:25:03,001 - INFO - Fetching (depth 3): https://en.wikipedia.org/wiki/Survey_methodology\n",
      "2025-03-30 15:25:03,110 - INFO - Fetching (depth 3): https://en.wikipedia.org/wiki/Overconfidence_effect\n",
      "2025-03-30 15:25:03,425 - INFO - Fetching (depth 3): https://en.wikipedia.org/wiki/Point_estimate\n",
      "2025-03-30 15:25:03,431 - INFO - Fetching (depth 3): https://en.wikipedia.org/wiki/Instability\n",
      "2025-03-30 15:25:03,506 - INFO - Fetching (depth 3): https://en.wikipedia.org/wiki/Geometry\n",
      "2025-03-30 15:25:03,525 - INFO - Fetching (depth 3): https://en.wikipedia.org/wiki/Algebra\n",
      "2025-03-30 15:25:03,664 - INFO - Fetching (depth 3): https://en.wikipedia.org/wiki/History_of_mathematics\n",
      "2025-03-30 15:25:03,679 - INFO - Fetching (depth 3): https://en.wikipedia.org/wiki/Number_theory\n",
      "2025-03-30 15:25:03,745 - ERROR - Unexpected error for https://en.wikipedia.org/wiki/Instability: bad parameter or other API misuse\n",
      "2025-03-30 15:25:03,760 - INFO - Fetching (depth 3): https://en.wikipedia.org/wiki/Calculus\n",
      "2025-03-30 15:25:03,762 - INFO - Fetching (depth 3): https://en.wikipedia.org/wiki/Areas_of_mathematics\n",
      "2025-03-30 15:25:03,820 - ERROR - Unexpected error for https://en.wikipedia.org/wiki/Point_estimate: bad parameter or other API misuse\n",
      "2025-03-30 15:25:03,849 - INFO - Fetching (depth 3): https://en.wikipedia.org/wiki/Topology\n",
      "2025-03-30 15:25:03,853 - INFO - Fetching (depth 3): https://en.wikipedia.org/wiki/Lists_of_mathematics_topics\n",
      "2025-03-30 15:25:04,035 - INFO - Fetching (depth 3): https://en.wikipedia.org/wiki/Ordinary_differential_equation\n",
      "2025-03-30 15:25:04,667 - INFO - Fetching (depth 3): https://en.wikipedia.org/wiki/Symbolic_computation\n",
      "2025-03-30 15:25:04,705 - INFO - Fetching (depth 3): https://en.wikipedia.org/wiki/Decimal\n",
      "2025-03-30 15:25:04,761 - INFO - Fetching (depth 3): https://en.wikipedia.org/wiki/Celestial_mechanics\n",
      "2025-03-30 15:25:04,858 - INFO - Fetching (depth 3): https://en.wikipedia.org/wiki/Discrete_mathematics\n",
      "2025-03-30 15:25:05,247 - INFO - Fetching (depth 3): https://en.wikipedia.org/wiki/Algorithm\n",
      "2025-03-30 15:25:05,544 - INFO - Fetching (depth 3): https://en.wikipedia.org/wiki/Sexagesimal\n",
      "2025-03-30 15:25:05,794 - INFO - Fetching (depth 3): https://en.wikipedia.org/wiki/Isolated_point\n",
      "2025-03-30 15:25:05,856 - INFO - Fetching (depth 3): https://en.wikipedia.org/wiki/Open_set\n",
      "2025-03-30 15:25:06,024 - INFO - Fetching (depth 3): https://en.wikipedia.org/wiki/Open_ball\n",
      "2025-03-30 15:25:06,171 - INFO - Fetching (depth 3): https://en.wikipedia.org/wiki/Topological_space\n",
      "2025-03-30 15:25:06,171 - INFO - Fetching (depth 3): https://en.wikipedia.org/wiki/Euclidean_space\n",
      "2025-03-30 15:25:06,271 - INFO - Fetching (depth 3): https://en.wikipedia.org/wiki/Limit_point\n",
      "2025-03-30 15:25:06,466 - ERROR - Unexpected error for https://en.wikipedia.org/wiki/Open_set: bad parameter or other API misuse\n",
      "2025-03-30 15:25:06,467 - INFO - Fetching (depth 3): https://en.wikipedia.org/wiki/Metric_space\n",
      "2025-03-30 15:25:06,468 - ERROR - Unexpected error for https://en.wikipedia.org/wiki/Open_ball: bad parameter or other API misuse\n",
      "2025-03-30 15:25:06,472 - INFO - Fetching (depth 3): https://en.wikipedia.org/wiki/Subspace_topology\n",
      "2025-03-30 15:25:06,475 - INFO - Fetching (depth 3): https://en.wikipedia.org/wiki/Experimental_music\n",
      "2025-03-30 15:25:06,544 - INFO - Fetching (depth 3): https://en.wikipedia.org/wiki/David_Scott\n",
      "2025-03-30 15:25:06,607 - ERROR - Unexpected error for https://en.wikipedia.org/wiki/Limit_point: bad parameter or other API misuse\n",
      "2025-03-30 15:25:06,650 - INFO - Fetching (depth 3): https://en.wikipedia.org/wiki/Branches_of_science\n",
      "2025-03-30 15:25:06,652 - INFO - Fetching (depth 3): https://en.wikipedia.org/wiki/Outline_of_physical_science\n",
      "2025-03-30 15:25:06,712 - INFO - Fetching (depth 3): https://en.wikipedia.org/wiki/Philosophy_of_science\n",
      "2025-03-30 15:25:06,717 - ERROR - Unable to deserialize response: a bytes-like object is required, not 'NoneType'\n",
      "2025-03-30 15:25:06,724 - ERROR - Unexpected error for https://en.wikipedia.org/wiki/Outline_of_physical_science: bad parameter or other API misuse\n",
      "2025-03-30 15:25:06,726 - INFO - Fetching (depth 3): https://en.wikipedia.org/wiki/History_of_science\n",
      "2025-03-30 15:25:07,201 - INFO - Fetching (depth 3): https://en.wikipedia.org/wiki/Formal_science\n",
      "2025-03-30 15:25:07,223 - INFO - Fetching (depth 3): https://en.wikipedia.org/wiki/Scientific_literature\n",
      "2025-03-30 15:25:07,295 - INFO - Fetching (depth 3): https://en.wikipedia.org/wiki/Scientific_method\n",
      "2025-03-30 15:25:07,356 - INFO - Fetching (depth 3): https://en.wikipedia.org/wiki/Natural_science\n",
      "2025-03-30 15:25:07,432 - INFO - Fetching (depth 3): https://en.wikipedia.org/wiki/Outline_of_science\n",
      "2025-03-30 15:25:07,687 - INFO - Fetching (depth 3): https://en.wikipedia.org/wiki/Unit_of_measurement\n",
      "2025-03-30 15:25:07,824 - INFO - Fetching (depth 3): https://en.wikipedia.org/wiki/Unit_of_analysis\n",
      "2025-03-30 15:25:07,833 - INFO - Fetching (depth 3): https://en.wikipedia.org/wiki/Data_collection\n",
      "2025-03-30 15:25:08,120 - INFO - Fetching (depth 3): https://en.wikipedia.org/wiki/Unit_of_observation\n",
      "2025-03-30 15:25:08,175 - INFO - Fetching (depth 3): https://en.wikipedia.org/wiki/Community\n",
      "2025-03-30 15:25:08,257 - INFO - Fetching (depth 3): https://en.wikipedia.org/wiki/Demand_for_money\n",
      "2025-03-30 15:25:08,399 - ERROR - Unexpected error for https://en.wikipedia.org/wiki/Community: bad parameter or other API misuse\n",
      "2025-03-30 15:25:08,414 - INFO - Fetching (depth 3): https://en.wikipedia.org/wiki/Outline_of_engineering\n",
      "2025-03-30 15:25:08,630 - INFO - Fetching (depth 3): https://en.wikipedia.org/wiki/Technical_University_of_Madrid\n",
      "2025-03-30 15:25:08,726 - INFO - Fetching (depth 3): https://en.wikipedia.org/wiki/Beam_engine\n",
      "2025-03-30 15:25:08,789 - INFO - Fetching (depth 3): https://en.wikipedia.org/wiki/Engineering_design_process\n",
      "2025-03-30 15:25:08,844 - INFO - Fetching (depth 3): https://en.wikipedia.org/wiki/Steam_engine\n",
      "2025-03-30 15:25:08,922 - INFO - Fetching (depth 3): https://en.wikipedia.org/wiki/History_of_engineering\n",
      "2025-03-30 15:25:09,200 - INFO - Fetching (depth 3): https://en.wikipedia.org/wiki/Industrial_Revolution\n",
      "2025-03-30 15:25:09,264 - ERROR - Unexpected error for https://en.wikipedia.org/wiki/Engineering_design_process: bad parameter or other API misuse\n",
      "2025-03-30 15:25:09,301 - INFO - Fetching (depth 3): https://en.wikipedia.org/wiki/Mean_value_theorem\n",
      "2025-03-30 15:25:09,305 - INFO - Fetching (depth 3): https://en.wikipedia.org/wiki/Tangent_line\n",
      "2025-03-30 15:25:09,328 - INFO - Fetching (depth 3): https://en.wikipedia.org/wiki/Graph_of_a_function\n",
      "2025-03-30 15:25:09,394 - INFO - Fetching (depth 3): https://en.wikipedia.org/wiki/Derivative\n",
      "2025-03-30 15:25:09,398 - ERROR - Unexpected error for https://en.wikipedia.org/wiki/History_of_engineering: bad parameter or other API misuse\n",
      "2025-03-30 15:25:09,401 - ERROR - Unexpected error for https://en.wikipedia.org/wiki/Technical_University_of_Madrid: bad parameter or other API misuse\n",
      "2025-03-30 15:25:09,403 - INFO - Fetching (depth 3): https://en.wikipedia.org/wiki/Fundamental_theorem_of_calculus\n",
      "2025-03-30 15:25:09,408 - INFO - Fetching (depth 3): https://en.wikipedia.org/wiki/Slope\n",
      "2025-03-30 15:25:09,463 - INFO - Fetching (depth 3): https://en.wikipedia.org/wiki/Limit_of_a_function\n",
      "2025-03-30 15:25:09,628 - INFO - Fetching (depth 3): https://en.wikipedia.org/wiki/Closed_set\n",
      "2025-03-30 15:25:09,706 - INFO - Fetching (depth 3): https://en.wikipedia.org/wiki/Real_line\n",
      "2025-03-30 15:25:09,970 - INFO - Fetching (depth 3): https://en.wikipedia.org/wiki/Subset\n",
      "2025-03-30 15:25:10,237 - INFO - Fetching (depth 3): https://en.wikipedia.org/wiki/Real_number\n",
      "2025-03-30 15:25:10,523 - INFO - Fetching (depth 3): https://en.wikipedia.org/wiki/Differential_of_a_function\n",
      "2025-03-30 15:25:10,681 - INFO - Fetching (depth 3): https://en.wikipedia.org/wiki/Generalizations_of_the_derivative\n",
      "2025-03-30 15:25:10,738 - INFO - Fetching (depth 3): https://en.wikipedia.org/wiki/Differential_calculus\n",
      "2025-03-30 15:25:10,982 - INFO - Fetching (depth 3): https://en.wikipedia.org/wiki/Inverse_function_theorem\n",
      "2025-03-30 15:25:11,138 - INFO - Fetching (depth 3): https://en.wikipedia.org/wiki/Square_root\n",
      "2025-03-30 15:25:11,138 - ERROR - Unexpected error for https://en.wikipedia.org/wiki/Generalizations_of_the_derivative: bad parameter or other API misuse\n",
      "2025-03-30 15:25:11,376 - INFO - Fetching (depth 3): https://en.wikipedia.org/wiki/Codomain\n",
      "2025-03-30 15:25:11,507 - INFO - Fetching (depth 3): https://en.wikipedia.org/wiki/Range_of_a_function\n",
      "2025-03-30 15:25:11,547 - INFO - Fetching (depth 3): https://en.wikipedia.org/wiki/Partial_function\n",
      "2025-03-30 15:25:12,117 - INFO - Fetching (depth 3): https://en.wikipedia.org/wiki/Real_function\n",
      "2025-03-30 15:25:12,150 - INFO - Fetching (depth 3): https://en.wikipedia.org/wiki/Natural_domain\n",
      "2025-03-30 15:25:12,326 - ERROR - Unexpected error for https://en.wikipedia.org/wiki/Partial_function: bad parameter or other API misuse\n",
      "2025-03-30 15:25:12,478 - INFO - Fetching (depth 3): https://en.wikipedia.org/wiki/Prime_factor\n",
      "2025-03-30 15:25:12,506 - INFO - Fetching (depth 3): https://en.wikipedia.org/wiki/Leonard_Adleman\n",
      "2025-03-30 15:25:12,507 - INFO - Fetching (depth 3): https://en.wikipedia.org/wiki/Negative_and_positive_numbers\n",
      "2025-03-30 15:25:12,683 - INFO - Fetching (depth 3): https://en.wikipedia.org/wiki/Cryptography\n",
      "2025-03-30 15:25:13,008 - INFO - Fetching (depth 3): https://en.wikipedia.org/wiki/Prime_factors\n",
      "2025-03-30 15:25:13,097 - INFO - Fetching (depth 3): https://en.wikipedia.org/wiki/Power_of_two\n",
      "2025-03-30 15:25:13,194 - ERROR - Unexpected error for https://en.wikipedia.org/wiki/Cryptography: bad parameter or other API misuse\n",
      "2025-03-30 15:25:13,240 - INFO - Fetching (depth 3): https://en.wikipedia.org/wiki/Regular_numbers\n",
      "2025-03-30 15:25:13,247 - INFO - Fetching (depth 3): https://en.wikipedia.org/wiki/Integer\n",
      "2025-03-30 15:25:13,309 - INFO - Fetching (depth 3): https://en.wikipedia.org/wiki/Complex_vector\n",
      "2025-03-30 15:25:13,497 - INFO - Fetching (depth 3): https://en.wikipedia.org/wiki/Tuple\n",
      "2025-03-30 15:25:13,674 - INFO - Fetching (depth 3): https://en.wikipedia.org/wiki/Cartesian_product\n",
      "2025-03-30 15:25:13,927 - INFO - Fetching (depth 3): https://en.wikipedia.org/wiki/Complex_number\n",
      "2025-03-30 15:25:13,971 - INFO - Fetching (depth 3): https://en.wikipedia.org/wiki/Complex_dimension\n",
      "2025-03-30 15:25:14,172 - INFO - Fetching (depth 3): https://en.wikipedia.org/wiki/Complex_line\n",
      "2025-03-30 15:25:14,215 - INFO - Fetching (depth 3): https://en.wikipedia.org/wiki/Complex_plane\n",
      "2025-03-30 15:25:14,272 - INFO - Fetching (depth 3): https://en.wikipedia.org/wiki/Vector_space\n",
      "2025-03-30 15:25:14,568 - INFO - Fetching (depth 3): https://en.wikipedia.org/wiki/Point_at_infinity\n",
      "2025-03-30 15:25:14,608 - INFO - Fetching (depth 3): https://en.wikipedia.org/wiki/Mathematical_model\n",
      "2025-03-30 15:25:14,986 - INFO - Fetching (depth 3): https://en.wikipedia.org/wiki/Complex_analysis\n",
      "2025-03-30 15:25:15,293 - INFO - Fetching (depth 3): https://en.wikipedia.org/wiki/Bernhard_Riemann\n",
      "2025-03-30 15:25:15,502 - INFO - Fetching (depth 3): https://en.wikipedia.org/wiki/Stereographic_projection\n",
      "2025-03-30 15:25:15,719 - INFO - Fetching (depth 3): https://en.wikipedia.org/wiki/Infinity\n",
      "2025-03-30 15:25:15,855 - INFO - Fetching (depth 3): https://en.wikipedia.org/wiki/Binomial_regression\n",
      "2025-03-30 15:25:15,882 - INFO - Fetching (depth 3): https://en.wikipedia.org/wiki/Piecewise\n",
      "2025-03-30 15:25:15,942 - INFO - Fetching (depth 3): https://en.wikipedia.org/wiki/Flat_spline\n",
      "2025-03-30 15:25:15,965 - INFO - Fetching (depth 3): https://en.wikipedia.org/wiki/Polynomial\n",
      "2025-03-30 15:25:16,337 - INFO - Fetching (depth 3): https://en.wikipedia.org/wiki/Polynomial_interpolation\n",
      "2025-03-30 15:25:16,456 - INFO - Fetching (depth 3): https://en.wikipedia.org/wiki/Interpolation_error\n",
      "2025-03-30 15:25:16,881 - INFO - Fetching (depth 3): https://en.wikipedia.org/wiki/Spline_interpolation\n",
      "2025-03-30 15:25:16,961 - INFO - Fetching (depth 3): https://en.wikipedia.org/wiki/Smoothing\n",
      "2025-03-30 15:25:17,044 - INFO - Fetching (depth 3): https://en.wikipedia.org/wiki/Finite_element\n",
      "2025-03-30 15:25:17,125 - INFO - Fetching (depth 3): https://en.wikipedia.org/wiki/Polyharmonic_spline\n",
      "2025-03-30 15:25:17,272 - INFO - Fetching (depth 3): https://en.wikipedia.org/wiki/Nonlinear_dimensionality_reduction\n",
      "2025-03-30 15:25:17,439 - INFO - Fetching (depth 3): https://en.wikipedia.org/wiki/Elastic_map\n",
      "2025-03-30 15:25:17,526 - INFO - Fetching (depth 3): https://en.wikipedia.org/wiki/Radial_basis_function\n",
      "2025-03-30 15:25:17,541 - INFO - Fetching (depth 3): https://en.wikipedia.org/wiki/Geometric_design\n",
      "2025-03-30 15:25:18,422 - INFO - Fetching (depth 3): https://en.wikipedia.org/wiki/Data_mining\n",
      "2025-03-30 15:25:18,710 - INFO - Fetching (depth 3): https://en.wikipedia.org/wiki/Goertzel_algorithm\n",
      "2025-03-30 15:25:18,712 - INFO - Fetching (depth 3): https://en.wikipedia.org/wiki/Chemnitz\n",
      "2025-03-30 15:25:18,821 - INFO - Fetching (depth 3): https://en.wikipedia.org/wiki/QR_algorithm\n",
      "2025-03-30 15:25:19,089 - INFO - Fetching (depth 3): https://en.wikipedia.org/wiki/Singular_value_decomposition\n",
      "2025-03-30 15:25:19,554 - INFO - Fetching (depth 3): https://en.wikipedia.org/wiki/Numerical_linear_algebra\n",
      "2025-03-30 15:25:19,761 - INFO - Fetching (depth 3): https://en.wikipedia.org/wiki/Technical_University_of_Munich\n",
      "2025-03-30 15:25:20,217 - INFO - Fetching (depth 3): https://en.wikipedia.org/wiki/Parametric_continuity\n",
      "2025-03-30 15:25:21,672 - INFO - Fetching (depth 3): https://en.wikipedia.org/wiki/Degree_of_a_polynomial\n",
      "2025-03-30 15:25:22,014 - INFO - Fetching (depth 3): https://en.wikipedia.org/wiki/GDP\n",
      "2025-03-30 15:25:22,084 - INFO - Fetching (depth 3): https://en.wikipedia.org/wiki/Macroeconomics\n",
      "2025-03-30 15:25:22,716 - INFO - Fetching (depth 3): https://en.wikipedia.org/wiki/Normed_space\n",
      "2025-03-30 15:25:23,042 - INFO - Fetching (depth 3): https://en.wikipedia.org/wiki/Partial_differential_equation\n",
      "2025-03-30 15:25:23,099 - INFO - Fetching (depth 3): https://en.wikipedia.org/wiki/Mathematician\n",
      "2025-03-30 15:25:23,132 - INFO - Fetching (depth 3): https://en.wikipedia.org/wiki/Lp_norm\n",
      "2025-03-30 15:25:23,577 - INFO - Fetching (depth 3): https://en.wikipedia.org/wiki/Weak_derivative\n",
      "2025-03-30 15:25:23,609 - INFO - Fetching (depth 3): https://en.wikipedia.org/wiki/Complete_metric_space\n",
      "2025-03-30 15:25:24,697 - INFO - Fetching (depth 3): https://en.wikipedia.org/wiki/Banach_space\n",
      "2025-03-30 15:25:26,144 - INFO - Fetching (depth 3): https://en.wikipedia.org/wiki/Curve\n",
      "2025-03-30 15:25:26,535 - INFO - Fetching (depth 3): https://en.wikipedia.org/wiki/Extrapolation\n",
      "2025-03-30 15:25:26,618 - INFO - Fetching (depth 3): https://en.wikipedia.org/wiki/Determinism\n",
      "2025-03-30 15:25:26,677 - INFO - Fetching (depth 3): https://en.wikipedia.org/wiki/Probability\n",
      "2025-03-30 15:25:26,778 - INFO - Fetching (depth 3): https://en.wikipedia.org/wiki/Probability_axioms\n",
      "2025-03-30 15:25:27,192 - INFO - Fetching (depth 3): https://en.wikipedia.org/wiki/Randomness\n",
      "2025-03-30 15:25:27,280 - INFO - Fetching (depth 3): https://en.wikipedia.org/wiki/Deterministic_system\n",
      "2025-03-30 15:25:27,424 - INFO - Fetching (depth 3): https://en.wikipedia.org/wiki/Indeterminism\n",
      "2025-03-30 15:25:27,714 - INFO - Fetching (depth 3): https://en.wikipedia.org/wiki/Braunschweig\n",
      "2025-03-30 15:25:27,776 - ERROR - Unexpected error for https://en.wikipedia.org/wiki/Randomness: bad parameter or other API misuse\n",
      "2025-03-30 15:25:27,796 - INFO - Fetching (depth 3): https://en.wikipedia.org/wiki/Thesis\n",
      "2025-03-30 15:25:27,796 - ERROR - Unable to deserialize response: a bytes-like object is required, not 'NoneType'\n",
      "2025-03-30 15:25:27,803 - INFO - Fetching (depth 3): https://en.wikipedia.org/wiki/Doctoral_advisor\n",
      "2025-03-30 15:25:27,972 - INFO - Fetching (depth 3): https://en.wikipedia.org/wiki/Braunschweig_University_of_Technology\n",
      "2025-03-30 15:25:28,440 - INFO - Fetching (depth 3): https://en.wikipedia.org/wiki/Christian_Albrecht_Jensen\n",
      "2025-03-30 15:25:28,593 - INFO - Fetching (depth 3): https://en.wikipedia.org/wiki/Copley_Medal\n",
      "2025-03-30 15:25:28,731 - INFO - Fetching (depth 3): https://en.wikipedia.org/wiki/List_of_things_named_after_Carl_Friedrich_Gauss\n",
      "2025-03-30 15:25:29,045 - INFO - Fetching (depth 3): https://en.wikipedia.org/wiki/Lalande_Prize\n",
      "2025-03-30 15:25:29,062 - INFO - Fetching (depth 3): https://en.wikipedia.org/wiki/University_of_Helmstedt\n",
      "2025-03-30 15:25:29,144 - INFO - Fetching (depth 3): https://en.wikipedia.org/wiki/Statistical_hypothesis_testing\n",
      "2025-03-30 15:25:29,212 - INFO - Fetching (depth 3): https://en.wikipedia.org/wiki/Data_generating_process\n",
      "2025-03-30 15:25:29,279 - INFO - Fetching (depth 3): https://en.wikipedia.org/wiki/Random_variables\n",
      "2025-03-30 15:25:29,508 - INFO - Fetching (depth 3): https://en.wikipedia.org/wiki/Statistical_assumptions\n",
      "2025-03-30 15:25:29,523 - INFO - Fetching (depth 3): https://en.wikipedia.org/wiki/Probability_space\n",
      "2025-03-30 15:25:29,735 - INFO - Fetching (depth 3): https://en.wikipedia.org/wiki/Univariate\n",
      "2025-03-30 15:25:29,903 - INFO - Fetching (depth 3): https://en.wikipedia.org/wiki/Information_entropy\n",
      "2025-03-30 15:25:30,139 - INFO - Fetching (depth 3): https://en.wikipedia.org/wiki/Covariance_matrix\n",
      "2025-03-30 15:25:30,279 - INFO - Fetching (depth 3): https://en.wikipedia.org/wiki/Information\n",
      "2025-03-30 15:25:30,282 - INFO - Fetching (depth 3): https://en.wikipedia.org/wiki/Infinite_set\n",
      "2025-03-30 15:25:30,435 - INFO - Fetching (depth 3): https://en.wikipedia.org/wiki/Hypothesis\n",
      "2025-03-30 15:25:30,503 - INFO - Fetching (depth 3): https://en.wikipedia.org/wiki/Milky_Way_galaxy\n",
      "2025-03-30 15:25:30,709 - INFO - Fetching (depth 3): https://en.wikipedia.org/wiki/Population\n",
      "2025-03-30 15:25:30,730 - INFO - Fetching (depth 3): https://en.wikipedia.org/wiki/Unbiased_estimator\n",
      "2025-03-30 15:25:30,772 - INFO - Fetching (depth 3): https://en.wikipedia.org/wiki/Set_estimation\n",
      "2025-03-30 15:25:30,803 - INFO - Fetching (depth 3): https://en.wikipedia.org/wiki/Interval_estimation\n",
      "2025-03-30 15:25:31,062 - INFO - Fetching (depth 3): https://en.wikipedia.org/wiki/Estimation_theory\n",
      "2025-03-30 15:25:31,123 - INFO - Fetching (depth 3): https://en.wikipedia.org/wiki/Radar\n",
      "2025-03-30 15:25:31,382 - INFO - Fetching (depth 3): https://en.wikipedia.org/wiki/Point_estimation\n",
      "2025-03-30 15:25:31,387 - INFO - Fetching (depth 3): https://en.wikipedia.org/wiki/Pearson_correlation_coefficient\n",
      "2025-03-30 15:25:31,795 - INFO - Fetching (depth 3): https://en.wikipedia.org/wiki/Demand_curve\n",
      "2025-03-30 15:25:31,809 - INFO - Fetching (depth 3): https://en.wikipedia.org/wiki/Correlation\n",
      "2025-03-30 15:25:31,830 - INFO - Fetching (depth 3): https://en.wikipedia.org/wiki/Bivariate_data\n",
      "2025-03-30 15:25:31,880 - INFO - Fetching (depth 3): https://en.wikipedia.org/wiki/Causality\n",
      "2025-03-30 15:25:31,955 - INFO - Fetching (depth 3): https://en.wikipedia.org/wiki/Human_height\n",
      "2025-03-30 15:25:31,956 - ERROR - Unexpected error for https://en.wikipedia.org/wiki/Correlation: bad parameter or other API misuse\n",
      "2025-03-30 15:25:31,961 - INFO - Fetching (depth 3): https://en.wikipedia.org/wiki/Correlation_coefficient\n",
      "2025-03-30 15:25:31,991 - ERROR - Unexpected error for https://en.wikipedia.org/wiki/Bivariate_data: bad parameter or other API misuse\n",
      "2025-03-30 15:25:32,227 - INFO - Fetching (depth 3): https://en.wikipedia.org/wiki/True_Value\n",
      "2025-03-30 15:25:32,249 - INFO - Fetching (depth 3): https://en.wikipedia.org/wiki/Truth_value\n",
      "2025-03-30 15:25:32,749 - INFO - Fetching (depth 3): https://en.wikipedia.org/wiki/Parameter\n",
      "2025-03-30 15:25:33,657 - INFO - Crawl complete\n",
      "2025-03-30 15:25:33,659 - INFO - Starting visualization\n",
      "2025-03-30 15:25:44,260 - INFO - Сохранение графа в HTML-файл\n",
      "2025-03-30 15:25:44,355 - INFO - Graph saved as c:\\Users\\ivant\\Desktop\\proj\\WebsiteGraph\\graphs\\Kriging3d.html and opened in browser\n"
     ]
    },
    {
     "name": "stdout",
     "output_type": "stream",
     "text": [
      "Graph saved to c:\\Users\\ivant\\Desktop\\proj\\WebsiteGraph\\graphs\\Kriging3d.pkl\n",
      "c:\\Users\\ivant\\Desktop\\proj\\WebsiteGraph\\graphs\\Kriging3d.html | max_depth: 3 | max_links: 10 | crawl time: 67.89099144935608 | workers: 10\n"
     ]
    }
   ],
   "source": [
    "logger.info(\"Starting program\")\n",
    "graph1 = WebsiteGraphMP(\n",
    "    start_url=r\"https://en.wikipedia.org/wiki/Kriging\",\n",
    "    max_depth=3,\n",
    "    max_links=10,\n",
    "    path_regex=r\"^/wiki/[A-Za-z_]+$\",\n",
    "    workers=10,\n",
    "    layout={\"physics\": True},\n",
    "    show_menu = True\n",
    ")()\n",
    "# Call instance to crawl\n",
    "\n",
    "#print(graph1)  # Uses __str__\n",
    "#print(repr(graph1))  # Uses __repr__\n",
    "# Iterate over nodes\n",
    "#for node, data in graph1:\n",
    "#    print(node, data)\n",
    "# Check length\n",
    "#print(\"Total nodes:\", len(graph1))\n",
    "# Check membership\n",
    "#print(\"Contains 'https://en.wikipedia.org/wiki/Data_science':\", \"https://en.wikipedia.org/wiki/Data_science\" in graph1)\n",
    "\n",
    "graph1.visualize(force_file_name='Kriging3d')"
   ]
  },
  {
   "cell_type": "code",
   "execution_count": null,
   "metadata": {},
   "outputs": [
    {
     "name": "stderr",
     "output_type": "stream",
     "text": [
      "2025-03-30 15:26:47,294 - INFO - Starting visualization\n"
     ]
    },
    {
     "name": "stdout",
     "output_type": "stream",
     "text": [
      "Graph loaded from graphs/Kriging3d.pkl\n"
     ]
    },
    {
     "name": "stderr",
     "output_type": "stream",
     "text": [
      "2025-03-30 15:26:58,010 - INFO - Сохранение графа в HTML-файл\n",
      "2025-03-30 15:26:58,109 - INFO - Graph saved as c:\\Users\\ivant\\Desktop\\proj\\WebsiteGraph\\graphs\\graph16.html and opened in browser\n"
     ]
    },
    {
     "name": "stdout",
     "output_type": "stream",
     "text": [
      "Graph saved to c:\\Users\\ivant\\Desktop\\proj\\WebsiteGraph\\graphs\\graph16.pkl\n",
      "c:\\Users\\ivant\\Desktop\\proj\\WebsiteGraph\\graphs\\graph16.html | max_depth: 3 | max_links: 10 | workers: 10\n"
     ]
    }
   ],
   "source": [
    "graph =WebsiteGraphMP()\n",
    "graph.load_graph('graphs/Kriging3d.pkl')\n",
    "graph.visualize()"
   ]
  }
 ],
 "metadata": {
  "kernelspec": {
   "display_name": "base",
   "language": "python",
   "name": "python3"
  },
  "language_info": {
   "codemirror_mode": {
    "name": "ipython",
    "version": 3
   },
   "file_extension": ".py",
   "mimetype": "text/x-python",
   "name": "python",
   "nbconvert_exporter": "python",
   "pygments_lexer": "ipython3",
   "version": "3.12.7"
  }
 },
 "nbformat": 4,
 "nbformat_minor": 2
}
